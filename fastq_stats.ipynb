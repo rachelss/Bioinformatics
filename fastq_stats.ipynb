{
 "cells": [
  {
   "cell_type": "code",
   "execution_count": 1,
   "metadata": {
    "collapsed": false
   },
   "outputs": [
    {
     "name": "stdout",
     "output_type": "stream",
     "text": [
      "  % Total    % Received % Xferd  Average Speed   Time    Time     Time  Current\n",
      "                                 Dload  Upload   Total   Spent    Left  Speed\n",
      "100 21190  100 21190    0     0  24328      0 --:--:-- --:--:-- --:--:-- 46367\n"
     ]
    }
   ],
   "source": [
    "!curl -O http://rachelss.github.io/Bioinformatics/sample.fastq"
   ]
  },
  {
   "cell_type": "code",
   "execution_count": 2,
   "metadata": {
    "collapsed": true
   },
   "outputs": [],
   "source": [
    "filename = 'sample.fastq'\n",
    "f = open(filename,'r')\n",
    "fastq = f.readlines()"
   ]
  },
  {
   "cell_type": "code",
   "execution_count": 5,
   "metadata": {
    "collapsed": false
   },
   "outputs": [
    {
     "name": "stdout",
     "output_type": "stream",
     "text": [
      "['@read0\\n', 'TTCACCGTGATACCGCTTGATCTACGACCGTGCATGAAGACCGCCAATGCTAAGCTCAACGAGGTCCGACCGACGAAGAACTCGTGGACTAAAAATAGCT\\n', '+\\n', 'IM40#d5SUo\"UazxA!zdcs%nDm1I%3wlAxqy9qgcDZQ#pfeH05Jy$zhZoMgEgDnHW7\"sR0fuQF#Zvu!S3\"lmrm8\"I#pq9ZD4vv1x!\\n', '@read1\\n', 'TTCCTTGGATGAAAAAAAAGGAGCGAACGGCCTTTTAGCGAGTAACCGGGTCGCTCGGTCAGTTGAGGCAAACTTCATCACTCGATAGGGGTGTCCGAAT\\n', '+\\n', 'ifl!9hXKU\"bSGVUTye67v1JLT24$9InzAj04X5P#RlIjQ8W\"ZveC3YhDRPf%Dqlvx7\"LQ5gY2komek0wX5Cy62BF5p9MUnQeKbGX\\n', '@read2\\n', 'GTCACTGCCCATGGGAAGACCACTGAAGTCCTCACACGGCCAGGCCCGTGTGGAATTCCGAATCTCAGAAGGATGATGTCCGGTTCGTGGTAGTTTGTAG\\n']\n"
     ]
    }
   ],
   "source": [
    "print(fastq[0:10])"
   ]
  },
  {
   "cell_type": "code",
   "execution_count": null,
   "metadata": {
    "collapsed": true
   },
   "outputs": [],
   "source": []
  }
 ],
 "metadata": {
  "kernelspec": {
   "display_name": "Python 3",
   "language": "python",
   "name": "python3"
  },
  "language_info": {
   "codemirror_mode": {
    "name": "ipython",
    "version": 3
   },
   "file_extension": ".py",
   "mimetype": "text/x-python",
   "name": "python",
   "nbconvert_exporter": "python",
   "pygments_lexer": "ipython3",
   "version": "3.3.5"
  }
 },
 "nbformat": 4,
 "nbformat_minor": 0
}
