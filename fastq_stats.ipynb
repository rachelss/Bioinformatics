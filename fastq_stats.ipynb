{
 "cells": [
  {
   "cell_type": "code",
   "execution_count": 1,
   "metadata": {
    "collapsed": true
   },
   "outputs": [],
   "source": [
    "filename = 'sample.fastq'\n",
    "f = open(filename,'r')\n",
    "fastq = f.readlines()"
   ]
  },
  {
   "cell_type": "code",
   "execution_count": 3,
   "metadata": {
    "collapsed": false
   },
   "outputs": [
    {
     "name": "stdout",
     "output_type": "stream",
     "text": [
      "['@read0\\n', 'TTCACCGTGATACCGCTTGATCTACGACCGTGCATGAAGACCGCCAATGCTAAGCTCAACGAGGTCCGACCGACGAAGAACTCGTGGACTAAAAATAGCT\\n', '+\\n', 'IM40#d5SUo\"UazxA!zdcs%nDm1I%3wlAxqy9qgcDZQ#pfeH05Jy$zhZoMgEgDnHW7\"sR0fuQF#Zvu!S3\"lmrm8\"I#pq9ZD4vv1x!\\n', '@read1\\n', 'TTCCTTGGATGAAAAAAAAGGAGCGAACGGCCTTTTAGCGAGTAACCGGGTCGCTCGGTCAGTTGAGGCAAACTTCATCACTCGATAGGGGTGTCCGAAT\\n', '+\\n', 'ifl!9hXKU\"bSGVUTye67v1JLT24$9InzAj04X5P#RlIjQ8W\"ZveC3YhDRPf%Dqlvx7\"LQ5gY2komek0wX5Cy62BF5p9MUnQeKbGX\\n', '@read2\\n', 'GTCACTGCCCATGGGAAGACCACTGAAGTCCTCACACGGCCAGGCCCGTGTGGAATTCCGAATCTCAGAAGGATGATGTCCGGTTCGTGGTAGTTTGTAG\\n']\n"
     ]
    }
   ],
   "source": [
    "print(fastq[0:10])"
   ]
  },
  {
   "cell_type": "code",
   "execution_count": 4,
   "metadata": {
    "collapsed": false
   },
   "outputs": [
    {
     "name": "stdout",
     "output_type": "stream",
     "text": [
      "TTCACCGTGATACCGCTTGATCTACGACCGTGCATGAAGACCGCCAATGCTAAGCTCAACGAGGTCCGACCGACGAAGAACTCGTGGACTAAAAATAGCT\n",
      "\n",
      "TTCCTTGGATGAAAAAAAAGGAGCGAACGGCCTTTTAGCGAGTAACCGGGTCGCTCGGTCAGTTGAGGCAAACTTCATCACTCGATAGGGGTGTCCGAAT\n",
      "\n"
     ]
    }
   ],
   "source": [
    "print(fastq[1])\n",
    "print(fastq[5])\n",
    "print(fastq[9])\n",
    "print(fastq[13])\n",
    "print(fastq[17])"
   ]
  },
  {
   "cell_type": "code",
   "execution_count": 6,
   "metadata": {
    "collapsed": false
   },
   "outputs": [
    {
     "name": "stdout",
     "output_type": "stream",
     "text": [
      "1\n",
      "1\n"
     ]
    }
   ],
   "source": [
    "print(1%4)\n",
    "print(5%4)"
   ]
  },
  {
   "cell_type": "code",
   "execution_count": 11,
   "metadata": {
    "collapsed": false
   },
   "outputs": [
    {
     "name": "stdout",
     "output_type": "stream",
     "text": [
      "2517\n"
     ]
    }
   ],
   "source": [
    "counter = [0,0,0,0]\n",
    "for line_num,line in enumerate(fastq):\n",
    "    if line_num%4 == 1:\n",
    "        for base in line:\n",
    "            if base == 'A':\n",
    "                acounter = acounter+1\n",
    "print(counter)"
   ]
  },
  {
   "cell_type": "code",
   "execution_count": null,
   "metadata": {
    "collapsed": true
   },
   "outputs": [],
   "source": []
  }
 ],
 "metadata": {
  "kernelspec": {
   "display_name": "Python 3",
   "language": "python",
   "name": "python3"
  },
  "language_info": {
   "codemirror_mode": {
    "name": "ipython",
    "version": 3
   },
   "file_extension": ".py",
   "mimetype": "text/x-python",
   "name": "python",
   "nbconvert_exporter": "python",
   "pygments_lexer": "ipython3",
   "version": "3.3.5"
  }
 },
 "nbformat": 4,
 "nbformat_minor": 0
}
