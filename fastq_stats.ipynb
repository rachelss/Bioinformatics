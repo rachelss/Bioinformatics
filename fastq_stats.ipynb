{
 "cells": [
  {
   "cell_type": "code",
   "execution_count": 1,
   "metadata": {
    "collapsed": false
   },
   "outputs": [
    {
     "name": "stdout",
     "output_type": "stream",
     "text": [
      "  % Total    % Received % Xferd  Average Speed   Time    Time     Time  Current\n",
      "                                 Dload  Upload   Total   Spent    Left  Speed\n",
      "100 21190  100 21190    0     0  24328      0 --:--:-- --:--:-- --:--:-- 46367\n"
     ]
    }
   ],
   "source": [
    "!curl -O http://rachelss.github.io/Bioinformatics/sample.fastq"
   ]
  },
  {
   "cell_type": "code",
   "execution_count": 2,
   "metadata": {
    "collapsed": true
   },
   "outputs": [],
   "source": [
    "filename = 'sample.fastq'\n",
    "f = open(filename,'r')\n",
    "fastq = f.readlines()"
   ]
  },
  {
   "cell_type": "code",
   "execution_count": 6,
   "metadata": {
    "collapsed": false
   },
   "outputs": [
    {
     "name": "stdout",
     "output_type": "stream",
     "text": [
      "TTCACCGTGATACCGCTTGATCTACGACCGTGCATGAAGACCGCCAATGCTAAGCTCAACGAGGTCCGACCGACGAAGAACTCGTGGACTAAAAATAGCT\n",
      "\n",
      "TTCCTTGGATGAAAAAAAAGGAGCGAACGGCCTTTTAGCGAGTAACCGGGTCGCTCGGTCAGTTGAGGCAAACTTCATCACTCGATAGGGGTGTCCGAAT\n",
      "\n",
      "GTCACTGCCCATGGGAAGACCACTGAAGTCCTCACACGGCCAGGCCCGTGTGGAATTCCGAATCTCAGAAGGATGATGTCCGGTTCGTGGTAGTTTGTAG\n",
      "\n"
     ]
    }
   ],
   "source": [
    "print(fastq[1])\n",
    "print(fastq[5])\n",
    "print(fastq[9])"
   ]
  },
  {
   "cell_type": "code",
   "execution_count": 13,
   "metadata": {
    "collapsed": false
   },
   "outputs": [
    {
     "name": "stdout",
     "output_type": "stream",
     "text": [
      "2517\n"
     ]
    }
   ],
   "source": [
    "Acounter = 0\n",
    "G\n",
    "C\n",
    "T\n",
    "for line_num,line in enumerate(fastq):\n",
    "    if line_num%4 == 1:\n",
    "        for base in line:\n",
    "            if base == 'A':\n",
    "                Acounter = Acounter+1\n",
    "            if base =='G':\n",
    "                Gcounter = Gcounter+1\n",
    "print(Acounter)"
   ]
  },
  {
   "cell_type": "code",
   "execution_count": null,
   "metadata": {
    "collapsed": true
   },
   "outputs": [],
   "source": [
    "counters = [0,0,0,0]\n",
    "for line_num,line in enumerate(fastq):\n",
    "    if line_num%4 == 1:\n",
    "        for base in line:\n",
    "            if base == 'A':\n",
    "                counters[0] = counters[0]+1\n",
    "            if base =='G':\n",
    "                Gcounter = Gcounter+1"
   ]
  }
 ],
 "metadata": {
  "kernelspec": {
   "display_name": "Python 3",
   "language": "python",
   "name": "python3"
  },
  "language_info": {
   "codemirror_mode": {
    "name": "ipython",
    "version": 3
   },
   "file_extension": ".py",
   "mimetype": "text/x-python",
   "name": "python",
   "nbconvert_exporter": "python",
   "pygments_lexer": "ipython3",
   "version": "3.3.5"
  }
 },
 "nbformat": 4,
 "nbformat_minor": 0
}
